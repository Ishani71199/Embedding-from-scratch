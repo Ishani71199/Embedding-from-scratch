{
 "cells": [
  {
   "cell_type": "markdown",
   "id": "ff0f3f29",
   "metadata": {},
   "source": [
    "Load the dataset"
   ]
  },
  {
   "cell_type": "code",
   "execution_count": 1,
   "id": "2cb98c4f",
   "metadata": {},
   "outputs": [
    {
     "name": "stdout",
     "output_type": "stream",
     "text": [
      "X_train shape (60000, 28, 28)\n",
      "y_train shape (60000,)\n"
     ]
    }
   ],
   "source": [
    "from keras import datasets\n",
    "\n",
    "(X_train, y_train),(X_test, y_test) = datasets.mnist.load_data()\n",
    "print(\"X_train shape\", X_train.shape)\n",
    "print(\"y_train shape\", y_train.shape)\n",
    "# O/p: (no.of images, length, breadth)"
   ]
  },
  {
   "cell_type": "markdown",
   "id": "bf8045be",
   "metadata": {},
   "source": [
    "Display some of the images with their labels"
   ]
  },
  {
   "cell_type": "code",
   "execution_count": 2,
   "id": "05b880b0",
   "metadata": {},
   "outputs": [
    {
     "data": {
      "image/png": "[encoded data removed]",
      "text/plain": [
       "<Figure size 640x480 with 10 Axes>"
      ]
     },
     "metadata": {},
     "output_type": "display_data"
    }
   ],
   "source": [
    "import matplotlib.pyplot as plt\n",
    "for i in range(10):\n",
    "    plt.subplot(1, 10, i+1)\n",
    "    plt.imshow(X_train[i], cmap=\"gray\")\n",
    "    plt.title(y_train[i])\n",
    "    plt.axis(\"off\")"
   ]
  },
  {
   "cell_type": "markdown",
   "id": "45800fad",
   "metadata": {},
   "source": [
    "We need to pass each pixel as an input to the NN. Let's reshape it have a single array with 28 * 28 = 784 pixels (Each image is 28x28 pixels, flattened to 784 features.)"
   ]
  },
  {
   "cell_type": "code",
   "execution_count": 4,
   "id": "5a600511",
   "metadata": {},
   "outputs": [
    {
     "name": "stdout",
     "output_type": "stream",
     "text": [
      "X_train shape (60000, 784)\n",
      "X_test shape (10000, 784)\n"
     ]
    }
   ],
   "source": [
    "X_train = X_train.reshape(-1, 784)\n",
    "X_test = X_test.reshape(-1, 784)\n",
    "\n",
    "# After flatting \n",
    "print(\"X_train shape\", X_train.shape)\n",
    "print(\"X_test shape\", X_test.shape)"
   ]
  },
  {
   "cell_type": "code",
   "execution_count": 5,
   "id": "1113d3fa",
   "metadata": {},
   "outputs": [
    {
     "data": {
      "text/plain": [
       "array([  0,   0,   0,   0,   0,   0,   0,   0,   0,   0,   0,   0,   0,\n",
       "         0,   0,   0,   0,   0,   0,   0,   0,   0,   0,   0,   0,   0,\n",
       "         0,   0,   0,   0,   0,   0,   0,   0,   0,   0,   0,   0,   0,\n",
       "         0,   0,   0,   0,   0,   0,   0,   0,   0,   0,   0,   0,   0,\n",
       "         0,   0,   0,   0,   0,   0,   0,   0,   0,   0,   0,   0,   0,\n",
       "         0,   0,   0,   0,   0,   0,   0,   0,   0,   0,   0,   0,   0,\n",
       "         0,   0,   0,   0,   0,   0,   0,   0,   0,   0,   0,   0,   0,\n",
       "         0,   0,   0,   0,   0,   0,   0,   0,   0,   0,   0,   0,   0,\n",
       "         0,   0,   0,   0,   0,   0,   0,   0,   0,   0,   0,   0,   0,\n",
       "         0,   0,   0,   0,   0,   0,   0,   0,   0,   0,   0,   0,   0,\n",
       "         0,   0,   0,   0,   0,   0,   0,   0,   0,   0,   0,   0,   0,\n",
       "         0,   0,   0,   0,   0,   0,   0,   0,   0,   3,  18,  18,  18,\n",
       "       126, 136, 175,  26, 166, 255, 247, 127,   0,   0,   0,   0,   0,\n",
       "         0,   0,   0,   0,   0,   0,   0,  30,  36,  94, 154, 170, 253,\n",
       "       253, 253, 253, 253, 225, 172, 253, 242, 195,  64,   0,   0,   0,\n",
       "         0,   0,   0,   0,   0,   0,   0,   0,  49, 238, 253, 253, 253,\n",
       "       253, 253, 253, 253, 253, 251,  93,  82,  82,  56,  39,   0,   0,\n",
       "         0,   0,   0,   0,   0,   0,   0,   0,   0,   0,  18, 219, 253,\n",
       "       253, 253, 253, 253, 198, 182, 247, 241,   0,   0,   0,   0,   0,\n",
       "         0,   0,   0,   0,   0,   0,   0,   0,   0,   0,   0,   0,   0,\n",
       "        80, 156, 107, 253, 253, 205,  11,   0,  43, 154,   0,   0,   0,\n",
       "         0,   0,   0,   0,   0,   0,   0,   0,   0,   0,   0,   0,   0,\n",
       "         0,   0,   0,  14,   1, 154, 253,  90,   0,   0,   0,   0,   0,\n",
       "         0,   0,   0,   0,   0,   0,   0,   0,   0,   0,   0,   0,   0,\n",
       "         0,   0,   0,   0,   0,   0,   0, 139, 253, 190,   2,   0,   0,\n",
       "         0,   0,   0,   0,   0,   0,   0,   0,   0,   0,   0,   0,   0,\n",
       "         0,   0,   0,   0,   0,   0,   0,   0,   0,  11, 190, 253,  70,\n",
       "         0,   0,   0,   0,   0,   0,   0,   0,   0,   0,   0,   0,   0,\n",
       "         0,   0,   0,   0,   0,   0,   0,   0,   0,   0,   0,   0,  35,\n",
       "       241, 225, 160, 108,   1,   0,   0,   0,   0,   0,   0,   0,   0,\n",
       "         0,   0,   0,   0,   0,   0,   0,   0,   0,   0,   0,   0,   0,\n",
       "         0,   0,  81, 240, 253, 253, 119,  25,   0,   0,   0,   0,   0,\n",
       "         0,   0,   0,   0,   0,   0,   0,   0,   0,   0,   0,   0,   0,\n",
       "         0,   0,   0,   0,   0,  45, 186, 253, 253, 150,  27,   0,   0,\n",
       "         0,   0,   0,   0,   0,   0,   0,   0,   0,   0,   0,   0,   0,\n",
       "         0,   0,   0,   0,   0,   0,   0,   0,  16,  93, 252, 253, 187,\n",
       "         0,   0,   0,   0,   0,   0,   0,   0,   0,   0,   0,   0,   0,\n",
       "         0,   0,   0,   0,   0,   0,   0,   0,   0,   0,   0,   0, 249,\n",
       "       253, 249,  64,   0,   0,   0,   0,   0,   0,   0,   0,   0,   0,\n",
       "         0,   0,   0,   0,   0,   0,   0,   0,   0,   0,   0,  46, 130,\n",
       "       183, 253, 253, 207,   2,   0,   0,   0,   0,   0,   0,   0,   0,\n",
       "         0,   0,   0,   0,   0,   0,   0,   0,   0,   0,   0,  39, 148,\n",
       "       229, 253, 253, 253, 250, 182,   0,   0,   0,   0,   0,   0,   0,\n",
       "         0,   0,   0,   0,   0,   0,   0,   0,   0,   0,   0,  24, 114,\n",
       "       221, 253, 253, 253, 253, 201,  78,   0,   0,   0,   0,   0,   0,\n",
       "         0,   0,   0,   0,   0,   0,   0,   0,   0,   0,   0,  23,  66,\n",
       "       213, 253, 253, 253, 253, 198,  81,   2,   0,   0,   0,   0,   0,\n",
       "         0,   0,   0,   0,   0,   0,   0,   0,   0,   0,   0,  18, 171,\n",
       "       219, 253, 253, 253, 253, 195,  80,   9,   0,   0,   0,   0,   0,\n",
       "         0,   0,   0,   0,   0,   0,   0,   0,   0,   0,   0,  55, 172,\n",
       "       226, 253, 253, 253, 253, 244, 133,  11,   0,   0,   0,   0,   0,\n",
       "         0,   0,   0,   0,   0,   0,   0,   0,   0,   0,   0,   0,   0,\n",
       "       136, 253, 253, 253, 212, 135, 132,  16,   0,   0,   0,   0,   0,\n",
       "         0,   0,   0,   0,   0,   0,   0,   0,   0,   0,   0,   0,   0,\n",
       "         0,   0,   0,   0,   0,   0,   0,   0,   0,   0,   0,   0,   0,\n",
       "         0,   0,   0,   0,   0,   0,   0,   0,   0,   0,   0,   0,   0,\n",
       "         0,   0,   0,   0,   0,   0,   0,   0,   0,   0,   0,   0,   0,\n",
       "         0,   0,   0,   0,   0,   0,   0,   0,   0,   0,   0,   0,   0,\n",
       "         0,   0,   0,   0,   0,   0,   0,   0,   0,   0,   0,   0,   0,\n",
       "         0,   0,   0,   0,   0,   0,   0,   0,   0,   0,   0,   0,   0,\n",
       "         0,   0,   0,   0], dtype=uint8)"
      ]
     },
     "execution_count": 5,
     "metadata": {},
     "output_type": "execute_result"
    }
   ],
   "source": [
    "X_train[0]"
   ]
  },
  {
   "attachments": {
    "image.png": {
     "image/png": "[encoded data removed]"
    }
   },
   "cell_type": "markdown",
   "id": "10f855af",
   "metadata": {},
   "source": [
    "Now let's normalize the pixel value \n",
    "\n",
    "![image.png](attachment:image.png)"
   ]
  },
  {
   "cell_type": "code",
   "execution_count": 6,
   "id": "2bc5e20e",
   "metadata": {},
   "outputs": [],
   "source": [
    "X_train = (X_train - X_train.min()) / (X_train.max() - X_train.min())\n",
    "X_test = (X_test - X_test.min()) / (X_test.max() - X_test.min())"
   ]
  },
  {
   "cell_type": "code",
   "execution_count": 8,
   "id": "b044d4b5",
   "metadata": {},
   "outputs": [
    {
     "data": {
      "text/plain": [
       "array([0.        , 0.        , 0.        , 0.        , 0.        ,\n",
       "       0.        , 0.        , 0.        , 0.        , 0.        ,\n",
       "       0.        , 0.        , 0.        , 0.        , 0.        ,\n",
       "       0.        , 0.        , 0.        , 0.        , 0.        ,\n",
       "       0.        , 0.        , 0.        , 0.        , 0.        ,\n",
       "       0.        , 0.        , 0.        , 0.        , 0.        ,\n",
       "       0.        , 0.        , 0.        , 0.        , 0.        ,\n",
       "       0.        , 0.        , 0.        , 0.        , 0.        ,\n",
       "       0.        , 0.        , 0.        , 0.        , 0.        ,\n",
       "       0.        , 0.        , 0.        , 0.        , 0.        ,\n",
       "       0.        , 0.        , 0.        , 0.        , 0.        ,\n",
       "       0.        , 0.        , 0.        , 0.        , 0.        ,\n",
       "       0.        , 0.        , 0.        , 0.        , 0.        ,\n",
       "       0.        , 0.        , 0.        , 0.        , 0.        ,\n",
       "       0.        , 0.        , 0.        , 0.        , 0.        ,\n",
       "       0.        , 0.        , 0.        , 0.        , 0.        ,\n",
       "       0.        , 0.        , 0.        , 0.        , 0.        ,\n",
       "       0.        , 0.        , 0.        , 0.        , 0.        ,\n",
       "       0.        , 0.        , 0.        , 0.        , 0.        ,\n",
       "       0.        , 0.        , 0.        , 0.        , 0.        ,\n",
       "       0.        , 0.        , 0.        , 0.        , 0.        ,\n",
       "       0.        , 0.        , 0.        , 0.        , 0.        ,\n",
       "       0.        , 0.        , 0.        , 0.        , 0.        ,\n",
       "       0.        , 0.        , 0.        , 0.        , 0.        ,\n",
       "       0.        , 0.        , 0.        , 0.        , 0.        ,\n",
       "       0.        , 0.        , 0.        , 0.        , 0.        ,\n",
       "       0.        , 0.        , 0.        , 0.        , 0.        ,\n",
       "       0.        , 0.        , 0.        , 0.        , 0.        ,\n",
       "       0.        , 0.        , 0.        , 0.        , 0.        ,\n",
       "       0.        , 0.        , 0.        , 0.        , 0.        ,\n",
       "       0.        , 0.        , 0.01176471, 0.07058824, 0.07058824,\n",
       "       0.07058824, 0.49411765, 0.53333333, 0.68627451, 0.10196078,\n",
       "       0.65098039, 1.        , 0.96862745, 0.49803922, 0.        ,\n",
       "       0.        , 0.        , 0.        , 0.        , 0.        ,\n",
       "       0.        , 0.        , 0.        , 0.        , 0.        ,\n",
       "       0.        , 0.11764706, 0.14117647, 0.36862745, 0.60392157,\n",
       "       0.66666667, 0.99215686, 0.99215686, 0.99215686, 0.99215686,\n",
       "       0.99215686, 0.88235294, 0.6745098 , 0.99215686, 0.94901961,\n",
       "       0.76470588, 0.25098039, 0.        , 0.        , 0.        ,\n",
       "       0.        , 0.        , 0.        , 0.        , 0.        ,\n",
       "       0.        , 0.        , 0.        , 0.19215686, 0.93333333,\n",
       "       0.99215686, 0.99215686, 0.99215686, 0.99215686, 0.99215686,\n",
       "       0.99215686, 0.99215686, 0.99215686, 0.98431373, 0.36470588,\n",
       "       0.32156863, 0.32156863, 0.21960784, 0.15294118, 0.        ,\n",
       "       0.        , 0.        , 0.        , 0.        , 0.        ,\n",
       "       0.        , 0.        , 0.        , 0.        , 0.        ,\n",
       "       0.        , 0.07058824, 0.85882353, 0.99215686, 0.99215686,\n",
       "       0.99215686, 0.99215686, 0.99215686, 0.77647059, 0.71372549,\n",
       "       0.96862745, 0.94509804, 0.        , 0.        , 0.        ,\n",
       "       0.        , 0.        , 0.        , 0.        , 0.        ,\n",
       "       0.        , 0.        , 0.        , 0.        , 0.        ,\n",
       "       0.        , 0.        , 0.        , 0.        , 0.        ,\n",
       "       0.31372549, 0.61176471, 0.41960784, 0.99215686, 0.99215686,\n",
       "       0.80392157, 0.04313725, 0.        , 0.16862745, 0.60392157,\n",
       "       0.        , 0.        , 0.        , 0.        , 0.        ,\n",
       "       0.        , 0.        , 0.        , 0.        , 0.        ,\n",
       "       0.        , 0.        , 0.        , 0.        , 0.        ,\n",
       "       0.        , 0.        , 0.        , 0.        , 0.05490196,\n",
       "       0.00392157, 0.60392157, 0.99215686, 0.35294118, 0.        ,\n",
       "       0.        , 0.        , 0.        , 0.        , 0.        ,\n",
       "       0.        , 0.        , 0.        , 0.        , 0.        ,\n",
       "       0.        , 0.        , 0.        , 0.        , 0.        ,\n",
       "       0.        , 0.        , 0.        , 0.        , 0.        ,\n",
       "       0.        , 0.        , 0.        , 0.        , 0.54509804,\n",
       "       0.99215686, 0.74509804, 0.00784314, 0.        , 0.        ,\n",
       "       0.        , 0.        , 0.        , 0.        , 0.        ,\n",
       "       0.        , 0.        , 0.        , 0.        , 0.        ,\n",
       "       0.        , 0.        , 0.        , 0.        , 0.        ,\n",
       "       0.        , 0.        , 0.        , 0.        , 0.        ,\n",
       "       0.        , 0.        , 0.04313725, 0.74509804, 0.99215686,\n",
       "       0.2745098 , 0.        , 0.        , 0.        , 0.        ,\n",
       "       0.        , 0.        , 0.        , 0.        , 0.        ,\n",
       "       0.        , 0.        , 0.        , 0.        , 0.        ,\n",
       "       0.        , 0.        , 0.        , 0.        , 0.        ,\n",
       "       0.        , 0.        , 0.        , 0.        , 0.        ,\n",
       "       0.        , 0.1372549 , 0.94509804, 0.88235294, 0.62745098,\n",
       "       0.42352941, 0.00392157, 0.        , 0.        , 0.        ,\n",
       "       0.        , 0.        , 0.        , 0.        , 0.        ,\n",
       "       0.        , 0.        , 0.        , 0.        , 0.        ,\n",
       "       0.        , 0.        , 0.        , 0.        , 0.        ,\n",
       "       0.        , 0.        , 0.        , 0.        , 0.        ,\n",
       "       0.31764706, 0.94117647, 0.99215686, 0.99215686, 0.46666667,\n",
       "       0.09803922, 0.        , 0.        , 0.        , 0.        ,\n",
       "       0.        , 0.        , 0.        , 0.        , 0.        ,\n",
       "       0.        , 0.        , 0.        , 0.        , 0.        ,\n",
       "       0.        , 0.        , 0.        , 0.        , 0.        ,\n",
       "       0.        , 0.        , 0.        , 0.        , 0.17647059,\n",
       "       0.72941176, 0.99215686, 0.99215686, 0.58823529, 0.10588235,\n",
       "       0.        , 0.        , 0.        , 0.        , 0.        ,\n",
       "       0.        , 0.        , 0.        , 0.        , 0.        ,\n",
       "       0.        , 0.        , 0.        , 0.        , 0.        ,\n",
       "       0.        , 0.        , 0.        , 0.        , 0.        ,\n",
       "       0.        , 0.        , 0.        , 0.0627451 , 0.36470588,\n",
       "       0.98823529, 0.99215686, 0.73333333, 0.        , 0.        ,\n",
       "       0.        , 0.        , 0.        , 0.        , 0.        ,\n",
       "       0.        , 0.        , 0.        , 0.        , 0.        ,\n",
       "       0.        , 0.        , 0.        , 0.        , 0.        ,\n",
       "       0.        , 0.        , 0.        , 0.        , 0.        ,\n",
       "       0.        , 0.        , 0.        , 0.97647059, 0.99215686,\n",
       "       0.97647059, 0.25098039, 0.        , 0.        , 0.        ,\n",
       "       0.        , 0.        , 0.        , 0.        , 0.        ,\n",
       "       0.        , 0.        , 0.        , 0.        , 0.        ,\n",
       "       0.        , 0.        , 0.        , 0.        , 0.        ,\n",
       "       0.        , 0.        , 0.        , 0.18039216, 0.50980392,\n",
       "       0.71764706, 0.99215686, 0.99215686, 0.81176471, 0.00784314,\n",
       "       0.        , 0.        , 0.        , 0.        , 0.        ,\n",
       "       0.        , 0.        , 0.        , 0.        , 0.        ,\n",
       "       0.        , 0.        , 0.        , 0.        , 0.        ,\n",
       "       0.        , 0.        , 0.        , 0.        , 0.15294118,\n",
       "       0.58039216, 0.89803922, 0.99215686, 0.99215686, 0.99215686,\n",
       "       0.98039216, 0.71372549, 0.        , 0.        , 0.        ,\n",
       "       0.        , 0.        , 0.        , 0.        , 0.        ,\n",
       "       0.        , 0.        , 0.        , 0.        , 0.        ,\n",
       "       0.        , 0.        , 0.        , 0.        , 0.        ,\n",
       "       0.09411765, 0.44705882, 0.86666667, 0.99215686, 0.99215686,\n",
       "       0.99215686, 0.99215686, 0.78823529, 0.30588235, 0.        ,\n",
       "       0.        , 0.        , 0.        , 0.        , 0.        ,\n",
       "       0.        , 0.        , 0.        , 0.        , 0.        ,\n",
       "       0.        , 0.        , 0.        , 0.        , 0.        ,\n",
       "       0.        , 0.09019608, 0.25882353, 0.83529412, 0.99215686,\n",
       "       0.99215686, 0.99215686, 0.99215686, 0.77647059, 0.31764706,\n",
       "       0.00784314, 0.        , 0.        , 0.        , 0.        ,\n",
       "       0.        , 0.        , 0.        , 0.        , 0.        ,\n",
       "       0.        , 0.        , 0.        , 0.        , 0.        ,\n",
       "       0.        , 0.        , 0.07058824, 0.67058824, 0.85882353,\n",
       "       0.99215686, 0.99215686, 0.99215686, 0.99215686, 0.76470588,\n",
       "       0.31372549, 0.03529412, 0.        , 0.        , 0.        ,\n",
       "       0.        , 0.        , 0.        , 0.        , 0.        ,\n",
       "       0.        , 0.        , 0.        , 0.        , 0.        ,\n",
       "       0.        , 0.        , 0.        , 0.21568627, 0.6745098 ,\n",
       "       0.88627451, 0.99215686, 0.99215686, 0.99215686, 0.99215686,\n",
       "       0.95686275, 0.52156863, 0.04313725, 0.        , 0.        ,\n",
       "       0.        , 0.        , 0.        , 0.        , 0.        ,\n",
       "       0.        , 0.        , 0.        , 0.        , 0.        ,\n",
       "       0.        , 0.        , 0.        , 0.        , 0.        ,\n",
       "       0.        , 0.53333333, 0.99215686, 0.99215686, 0.99215686,\n",
       "       0.83137255, 0.52941176, 0.51764706, 0.0627451 , 0.        ,\n",
       "       0.        , 0.        , 0.        , 0.        , 0.        ,\n",
       "       0.        , 0.        , 0.        , 0.        , 0.        ,\n",
       "       0.        , 0.        , 0.        , 0.        , 0.        ,\n",
       "       0.        , 0.        , 0.        , 0.        , 0.        ,\n",
       "       0.        , 0.        , 0.        , 0.        , 0.        ,\n",
       "       0.        , 0.        , 0.        , 0.        , 0.        ,\n",
       "       0.        , 0.        , 0.        , 0.        , 0.        ,\n",
       "       0.        , 0.        , 0.        , 0.        , 0.        ,\n",
       "       0.        , 0.        , 0.        , 0.        , 0.        ,\n",
       "       0.        , 0.        , 0.        , 0.        , 0.        ,\n",
       "       0.        , 0.        , 0.        , 0.        , 0.        ,\n",
       "       0.        , 0.        , 0.        , 0.        , 0.        ,\n",
       "       0.        , 0.        , 0.        , 0.        , 0.        ,\n",
       "       0.        , 0.        , 0.        , 0.        , 0.        ,\n",
       "       0.        , 0.        , 0.        , 0.        , 0.        ,\n",
       "       0.        , 0.        , 0.        , 0.        , 0.        ,\n",
       "       0.        , 0.        , 0.        , 0.        , 0.        ,\n",
       "       0.        , 0.        , 0.        , 0.        , 0.        ,\n",
       "       0.        , 0.        , 0.        , 0.        , 0.        ,\n",
       "       0.        , 0.        , 0.        , 0.        ])"
      ]
     },
     "execution_count": 8,
     "metadata": {},
     "output_type": "execute_result"
    }
   ],
   "source": [
    "X_train[0]"
   ]
  },
  {
   "cell_type": "markdown",
   "id": "e2e2bf74",
   "metadata": {},
   "source": [
    "Now we will train Siamese Network using positive and negative pairs of images. \n",
    "\n",
    "Positive pair: Same digits\n",
    "\n",
    "Negative pair: Different digits"
   ]
  },
  {
   "cell_type": "code",
   "execution_count": 15,
   "id": "c11f26f9",
   "metadata": {},
   "outputs": [],
   "source": [
    "import numpy as np\n",
    "\n",
    "def generate_pairs(X, y):\n",
    "    X_pairs = []\n",
    "    y_pairs = []\n",
    "\n",
    "    for i in range(len(X)):\n",
    "        digit = y[i]\n",
    "\n",
    "        # Find a random image representing the same digit\n",
    "        # Positive pair\n",
    "        positive_digit_index = np.random.choice(np.where(y == digit)[0])\n",
    "\n",
    "        # Add the pair of images to the list\n",
    "        X_pairs.append([X[i], X[positive_digit_index]])\n",
    "\n",
    "        # Since this is a positive label, ground truth label is 0.\n",
    "        # The distance between images representing the same digit should be small and that's why we use 0 as the label\n",
    "        y_pairs.append([0])\n",
    "\n",
    "        # Find a random image representing the different digit\n",
    "        # Negative pair\n",
    "        negative_digit_index = np.random.choice(np.where(y != digit)[0])\n",
    "\n",
    "        # Add the pair of images to the list\n",
    "        X_pairs.append([X[i], X[negative_digit_index]])\n",
    "\n",
    "        # Since this is a Negative label, ground truth label is 1.\n",
    "        # The distance between images representing the same digit should be large and that's why we use 1 as the label\n",
    "        y_pairs.append([1])\n",
    "    \n",
    "    indices = np.arange(len(X_pairs))\n",
    "    np.random.shuffle(indices) # So that it is not 0 and 1 in continution\n",
    "\n",
    "    return np.array(X_pairs)[indices], np.array(y_pairs)[indices]\n",
    "\n"
   ]
  },
  {
   "cell_type": "markdown",
   "id": "71a5bb5b",
   "metadata": {},
   "source": [
    "Generate the pair for training and testing model"
   ]
  },
  {
   "cell_type": "code",
   "execution_count": 16,
   "id": "3bbb1e92",
   "metadata": {},
   "outputs": [
    {
     "name": "stdout",
     "output_type": "stream",
     "text": [
      "X_train_pairs shape:  (120000, 2, 784)\n",
      "X_test_pair shape:  (20000, 2, 784)\n"
     ]
    }
   ],
   "source": [
    "X_train_pair, y_train_pair = generate_pairs(X_train, y_train)\n",
    "X_test_pair, y_test_pair = generate_pairs(X_test, y_test)\n",
    "print(\"X_train_pairs shape: \", X_train_pair.shape)\n",
    "print(\"X_test_pair shape: \", X_test_pair.shape)"
   ]
  },
  {
   "cell_type": "markdown",
   "id": "972df45c",
   "metadata": {},
   "source": [
    "display some of these pairs to ensure they were generated correctly"
   ]
  },
  {
   "cell_type": "code",
   "execution_count": 18,
   "id": "2ca241e6",
   "metadata": {},
   "outputs": [
    {
     "data": {
      "image/png": "[encoded data removed]",
      "text/plain": [
       "<Figure size 2000x600 with 20 Axes>"
      ]
     },
     "metadata": {},
     "output_type": "display_data"
    }
   ],
   "source": [
    "def display_pairs(X, y, correct=None):\n",
    "    \"\"\"\n",
    "    Displays the first ten pairs from the supplied array.\n",
    "\n",
    "    Args:\n",
    "        - X: An array containing the image pairs.\n",
    "        - y: An array containing the corresponding label (0 if both\n",
    "            pairs are the same, and 1 if both pairs are different.)\n",
    "        - correct (optional): An array of boolean values indicating whether\n",
    "            the supplied labels correctly represent the image pairs.\n",
    "    \"\"\"\n",
    "\n",
    "    n = 10\n",
    "\n",
    "    plt.figure(figsize=(20, 6))\n",
    "    for i, (image1, image2) in enumerate(zip(X[:n, 0], X[:n, 1])):\n",
    "        label = int(y[:n][i][0])\n",
    "\n",
    "        text = \"Positive\" if label == 0 else \"Negative\"\n",
    "        color = \"silver\"\n",
    "\n",
    "        # If we know whether the supplied labels are correct, let's change the\n",
    "        # text and the face color of the annotation on the chart.\n",
    "        if correct is not None:\n",
    "            text = \"Same\" if label == 0 else \"Different\"\n",
    "            color = \"mediumseagreen\" if correct[:n][i][0] else \"indianred\"\n",
    "\n",
    "        ax = plt.subplot(3, n, i + 1)\n",
    "        ax.text(\n",
    "            1,\n",
    "            -3,\n",
    "            text,\n",
    "            style=\"italic\",\n",
    "            bbox={\"facecolor\": color, \"pad\": 4},\n",
    "        )\n",
    "\n",
    "        plt.imshow(image1.reshape(28, 28), cmap=\"gray\")\n",
    "        plt.axis(\"off\")\n",
    "\n",
    "        ax = plt.subplot(3, n, i + 1 + n)\n",
    "        plt.imshow(image2.reshape(28, 28), cmap=\"gray\")\n",
    "        plt.axis(\"off\")\n",
    "\n",
    "    plt.show()\n",
    "\n",
    "\n",
    "display_pairs(X_train_pair, y_train_pair)"
   ]
  },
  {
   "cell_type": "markdown",
   "id": "2227c577",
   "metadata": {},
   "source": [
    "Input for the Siamese network"
   ]
  },
  {
   "cell_type": "code",
   "execution_count": 19,
   "id": "0b9f0602",
   "metadata": {},
   "outputs": [],
   "source": [
    "from keras import Input\n",
    "\n",
    "input1 = Input(shape=(784,))\n",
    "input2 = Input(shape=(784,))"
   ]
  },
  {
   "cell_type": "markdown",
   "id": "15d8e384",
   "metadata": {},
   "source": [
    "Body of the Siamese network. This will be responsible for generating embedding"
   ]
  },
  {
   "cell_type": "code",
   "execution_count": 20,
   "id": "3e7702ab",
   "metadata": {},
   "outputs": [],
   "source": [
    "from keras.layers import Dense\n",
    "from keras.models import Sequential\n",
    "\n",
    "network = Sequential([\n",
    "    Input(shape=(784,)),\n",
    "    Dense(512, activation=\"relu\"),\n",
    "    Dense(256, activation=\"relu\"),\n",
    "    Dense(128, activation=None)\n",
    "])"
   ]
  },
  {
   "cell_type": "code",
   "execution_count": 21,
   "id": "016594ef",
   "metadata": {},
   "outputs": [],
   "source": [
    "twin1 = network(input1)\n",
    "twin2 = network(input2)"
   ]
  },
  {
   "cell_type": "markdown",
   "id": "e60c62e1",
   "metadata": {},
   "source": [
    "The output of the Siamese network is the distace between the embeddings of the two images.\n",
    "\n",
    "We can use Lambda layer to calculate the Euclidean disatnce between the embeddings"
   ]
  },
  {
   "cell_type": "code",
   "execution_count": 22,
   "id": "49e9ab1a",
   "metadata": {},
   "outputs": [
    {
     "name": "stdout",
     "output_type": "stream",
     "text": [
      "WARNING:tensorflow:From c:\\Users\\BISWASI\\Desktop\\Embeddings\\.venv\\Lib\\site-packages\\keras\\src\\backend\\tensorflow\\core.py:232: The name tf.placeholder is deprecated. Please use tf.compat.v1.placeholder instead.\n",
      "\n"
     ]
    }
   ],
   "source": [
    "from keras.layers import Lambda\n",
    "from keras.ops import norm\n",
    "\n",
    "def euclidean_distance(twins):\n",
    "    twin1_output, twin2_output = twins\n",
    "    return norm(twin1_output - twin2_output, axis = 1, keepdims=True)\n",
    "\n",
    "distance = Lambda(euclidean_distance)([twin1, twin2])"
   ]
  },
  {
   "cell_type": "markdown",
   "id": "f3c6660b",
   "metadata": {},
   "source": [
    "Setup the model"
   ]
  },
  {
   "cell_type": "code",
   "execution_count": 23,
   "id": "6a63c63e",
   "metadata": {},
   "outputs": [],
   "source": [
    "from keras import Model\n",
    "\n",
    "model = Model(inputs= [input1, input2], outputs = distance)"
   ]
  },
  {
   "cell_type": "markdown",
   "id": "fb07d468",
   "metadata": {},
   "source": [
    "We'll use the Contrastive Loss to train the model. \n",
    "\n",
    "Formula of this loss in the paper \"Dimensionality Reduction by Learning an Invariant Mapping.\"\n",
    "\n",
    "If the digits are same and distance is large/ if the digit are different and distance is small produce a big loss.\n",
    "Else small loss."
   ]
  },
  {
   "cell_type": "code",
   "execution_count": 25,
   "id": "d89e4f4a",
   "metadata": {},
   "outputs": [],
   "source": [
    "from keras.ops import cast, maximum, square\n",
    "\n",
    "def contrastive_loss(y, d):\n",
    "    margin = 1\n",
    "    y = cast(y, d.dtype)\n",
    "    loss = (1 - y) / 2 * square(d) + y / 2 * square(maximum(0.0, margin - d))\n",
    "    return loss"
   ]
  },
  {
   "cell_type": "markdown",
   "id": "694db1be",
   "metadata": {},
   "source": [
    "Compile the model using the Contrastive Loss"
   ]
  },
  {
   "cell_type": "code",
   "execution_count": 26,
   "id": "7d884a16",
   "metadata": {},
   "outputs": [],
   "source": [
    "from keras.metrics import binary_accuracy\n",
    "\n",
    "model.compile(loss= contrastive_loss, optimizer=\"adam\", metrics=[binary_accuracy])"
   ]
  },
  {
   "cell_type": "markdown",
   "id": "02d24d13",
   "metadata": {},
   "source": [
    "model architecture looks like:"
   ]
  },
  {
   "cell_type": "code",
   "execution_count": 27,
   "id": "258a6152",
   "metadata": {},
   "outputs": [
    {
     "name": "stdout",
     "output_type": "stream",
     "text": [
      "You must install graphviz (see instructions at https://graphviz.gitlab.io/download/) for `plot_model` to work.\n"
     ]
    }
   ],
   "source": [
    "import keras\n",
    "\n",
    "keras.utils.plot_model(\n",
    "    model, to_file=\"model.png\", show_shapes=True, show_layer_names=False\n",
    ")"
   ]
  },
  {
   "cell_type": "markdown",
   "id": "e9c4949b",
   "metadata": {},
   "source": [
    "Fit the model"
   ]
  },
  {
   "cell_type": "code",
   "execution_count": 28,
   "id": "dc3fd889",
   "metadata": {},
   "outputs": [
    {
     "name": "stdout",
     "output_type": "stream",
     "text": [
      "Epoch 1/5\n",
      "\u001b[1m3750/3750\u001b[0m \u001b[32m━━━━━━━━━━━━━━━━━━━━\u001b[0m\u001b[37m\u001b[0m \u001b[1m11s\u001b[0m 3ms/step - binary_accuracy: 0.8969 - loss: 0.0494 - val_binary_accuracy: 0.9647 - val_loss: 0.0216\n",
      "Epoch 2/5\n",
      "\u001b[1m3750/3750\u001b[0m \u001b[32m━━━━━━━━━━━━━━━━━━━━\u001b[0m\u001b[37m\u001b[0m \u001b[1m10s\u001b[0m 3ms/step - binary_accuracy: 0.9780 - loss: 0.0151 - val_binary_accuracy: 0.9674 - val_loss: 0.0167\n",
      "Epoch 3/5\n",
      "\u001b[1m3750/3750\u001b[0m \u001b[32m━━━━━━━━━━━━━━━━━━━━\u001b[0m\u001b[37m\u001b[0m \u001b[1m14s\u001b[0m 4ms/step - binary_accuracy: 0.9859 - loss: 0.0106 - val_binary_accuracy: 0.9709 - val_loss: 0.0150\n",
      "Epoch 4/5\n",
      "\u001b[1m3750/3750\u001b[0m \u001b[32m━━━━━━━━━━━━━━━━━━━━\u001b[0m\u001b[37m\u001b[0m \u001b[1m23s\u001b[0m 6ms/step - binary_accuracy: 0.9903 - loss: 0.0081 - val_binary_accuracy: 0.9675 - val_loss: 0.0151\n",
      "Epoch 5/5\n",
      "\u001b[1m3750/3750\u001b[0m \u001b[32m━━━━━━━━━━━━━━━━━━━━\u001b[0m\u001b[37m\u001b[0m \u001b[1m26s\u001b[0m 7ms/step - binary_accuracy: 0.9926 - loss: 0.0066 - val_binary_accuracy: 0.9676 - val_loss: 0.0145\n"
     ]
    }
   ],
   "source": [
    "history = model.fit(\n",
    "    x = [X_train_pair[:, 0], X_train_pair[:, 1]],\n",
    "    y = y_train_pair[:],\n",
    "    validation_data = ([X_test_pair[:, 0], X_test_pair[:, 1]], y_test_pair[:]),\n",
    "    batch_size=32,\n",
    "    epochs=5\n",
    ")"
   ]
  },
  {
   "cell_type": "markdown",
   "id": "aeb81708",
   "metadata": {},
   "source": [
    "Loss during training"
   ]
  },
  {
   "cell_type": "code",
   "execution_count": 29,
   "id": "3919a5bf",
   "metadata": {},
   "outputs": [
    {
     "data": {
      "image/png": "[encoded data removed]",
      "text/plain": [
       "<Figure size 640x480 with 1 Axes>"
      ]
     },
     "metadata": {},
     "output_type": "display_data"
    }
   ],
   "source": [
    "plt.plot(history.history[\"loss\"])\n",
    "plt.plot(history.history[\"val_loss\"])\n",
    "plt.title(\"Training and Validation Loss\")\n",
    "plt.ylabel(\"loss\")\n",
    "plt.xlabel(\"epoch\")\n",
    "plt.legend([\"train\", \"val\"], loc=\"upper right\")\n",
    "plt.show()"
   ]
  },
  {
   "cell_type": "markdown",
   "id": "2f565d0d",
   "metadata": {},
   "source": [
    "Evaluate the model using test data"
   ]
  },
  {
   "cell_type": "code",
   "execution_count": 30,
   "id": "883e9d42",
   "metadata": {},
   "outputs": [
    {
     "name": "stdout",
     "output_type": "stream",
     "text": [
      "\u001b[1m625/625\u001b[0m \u001b[32m━━━━━━━━━━━━━━━━━━━━\u001b[0m\u001b[37m\u001b[0m \u001b[1m1s\u001b[0m 880us/step\n"
     ]
    },
    {
     "data": {
      "image/png": "[encoded data removed]",
      "text/plain": [
       "<Figure size 2000x600 with 20 Axes>"
      ]
     },
     "metadata": {},
     "output_type": "display_data"
    }
   ],
   "source": [
    "predictions = model.predict([X_test_pair[:, 0], X_test_pair[:, 1]]) >= 0.5\n",
    "display_pairs(X_test_pair, predictions, predictions == y_test_pair)"
   ]
  },
  {
   "cell_type": "markdown",
   "id": "7d4286e1",
   "metadata": {},
   "source": [
    "Acurracy of the model on the test data"
   ]
  },
  {
   "cell_type": "code",
   "execution_count": 31,
   "id": "4d70cdd0",
   "metadata": {},
   "outputs": [
    {
     "name": "stdout",
     "output_type": "stream",
     "text": [
      "Accuracy: 0.97\n"
     ]
    }
   ],
   "source": [
    "accuracy = keras.metrics.BinaryAccuracy()\n",
    "accuracy.update_state(y_test_pair, predictions.astype(int))\n",
    "print(f\"Accuracy: {accuracy.result().numpy():.2f}\")"
   ]
  },
  {
   "cell_type": "markdown",
   "id": "8f697077",
   "metadata": {},
   "source": [
    "Different layers of the model we have trained:"
   ]
  },
  {
   "cell_type": "code",
   "execution_count": 32,
   "id": "5cdbf9ee",
   "metadata": {},
   "outputs": [
    {
     "data": {
      "text/plain": [
       "[<InputLayer name=input_layer, built=True>,\n",
       " <InputLayer name=input_layer_1, built=True>,\n",
       " <Sequential name=sequential, built=True>,\n",
       " <Lambda name=lambda, built=True>]"
      ]
     },
     "execution_count": 32,
     "metadata": {},
     "output_type": "execute_result"
    }
   ],
   "source": [
    "model.layers"
   ]
  },
  {
   "cell_type": "markdown",
   "id": "40514783",
   "metadata": {},
   "source": [
    "Sequential model can be used to generate embedding for the image"
   ]
  },
  {
   "cell_type": "code",
   "execution_count": 33,
   "id": "a023dd50",
   "metadata": {},
   "outputs": [],
   "source": [
    "embedding_model = model.layers[2]"
   ]
  },
  {
   "cell_type": "markdown",
   "id": "9311d025",
   "metadata": {},
   "source": [
    "Let's select two random images representing the digit 3, and one image representing the digit 7"
   ]
  },
  {
   "cell_type": "code",
   "execution_count": 34,
   "id": "0fe39b8b",
   "metadata": {},
   "outputs": [
    {
     "data": {
      "text/plain": [
       "(np.int64(1628), np.int64(8337), np.int64(6561))"
      ]
     },
     "execution_count": 34,
     "metadata": {},
     "output_type": "execute_result"
    }
   ],
   "source": [
    "digits = np.where(y_test == 3)[0]\n",
    "index1 = np.random.choice(digits)\n",
    "index2 = np.random.choice(digits)\n",
    "index3 = np.random.choice(np.where(y_test == 7)[0])\n",
    "\n",
    "index1, index2, index3"
   ]
  },
  {
   "cell_type": "markdown",
   "id": "63fc186c",
   "metadata": {},
   "source": [
    "We can generate the embeddings for these 3 images"
   ]
  },
  {
   "cell_type": "code",
   "execution_count": 35,
   "id": "6a9cb6d0",
   "metadata": {},
   "outputs": [
    {
     "name": "stdout",
     "output_type": "stream",
     "text": [
      "\u001b[1m1/1\u001b[0m \u001b[32m━━━━━━━━━━━━━━━━━━━━\u001b[0m\u001b[37m\u001b[0m \u001b[1m0s\u001b[0m 35ms/step\n",
      "\u001b[1m1/1\u001b[0m \u001b[32m━━━━━━━━━━━━━━━━━━━━\u001b[0m\u001b[37m\u001b[0m \u001b[1m0s\u001b[0m 21ms/step\n",
      "\u001b[1m1/1\u001b[0m \u001b[32m━━━━━━━━━━━━━━━━━━━━\u001b[0m\u001b[37m\u001b[0m \u001b[1m0s\u001b[0m 20ms/step\n"
     ]
    }
   ],
   "source": [
    "embedding1 = embedding_model.predict(X_test[index1].reshape(1, -1))\n",
    "embedding2 = embedding_model.predict(X_test[index2].reshape(1, -1))\n",
    "embedding3 = embedding_model.predict(X_test[index3].reshape(1, -1))"
   ]
  },
  {
   "cell_type": "markdown",
   "id": "5b17e22a",
   "metadata": {},
   "source": [
    "Distance between the embeddings of the two images representing the digit 3 should be really small"
   ]
  },
  {
   "cell_type": "code",
   "execution_count": 36,
   "id": "a64e2cfe",
   "metadata": {},
   "outputs": [
    {
     "data": {
      "text/plain": [
       "np.float32(0.018669222)"
      ]
     },
     "execution_count": 36,
     "metadata": {},
     "output_type": "execute_result"
    }
   ],
   "source": [
    "norm(embedding1 - embedding2).numpy()"
   ]
  },
  {
   "cell_type": "markdown",
   "id": "396c81dc",
   "metadata": {},
   "source": [
    "The distances between the embeddings of the images representing the digit 3 and the image representing the digit 7 should be large"
   ]
  },
  {
   "cell_type": "code",
   "execution_count": 38,
   "id": "34b35a32",
   "metadata": {},
   "outputs": [
    {
     "data": {
      "text/plain": [
       "(np.float32(0.9249929), np.float32(0.9267308))"
      ]
     },
     "execution_count": 38,
     "metadata": {},
     "output_type": "execute_result"
    }
   ],
   "source": [
    "norm(embedding1 - embedding3).numpy(), norm(embedding2 - embedding3).numpy()"
   ]
  }
 ],
 "metadata": {
  "kernelspec": {
   "display_name": ".venv",
   "language": "python",
   "name": "python3"
  },
  "language_info": {
   "codemirror_mode": {
    "name": "ipython",
    "version": 3
   },
   "file_extension": ".py",
   "mimetype": "text/x-python",
   "name": "python",
   "nbconvert_exporter": "python",
   "pygments_lexer": "ipython3",
   "version": "3.11.3"
  }
 },
 "nbformat": 4,
 "nbformat_minor": 5
}
